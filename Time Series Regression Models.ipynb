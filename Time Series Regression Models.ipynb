{
 "cells": [
  {
   "cell_type": "markdown",
   "metadata": {},
   "source": [
    "## Time Series Regression Models.\n",
    "The basic concept is that we forecast the time series of interest *y* assuming that it has a linear relationship with other time series *x*.<br>\n",
    "**Example 1:** <br>\n",
    "One may wish to **predict monthly sales** *(y)* using total advertising spend *x* as a predictor.<br>\n",
    "\n",
    "**Example 2:**<br>\n",
    "**Forecast daily electricity demand** *(y)* uing temperature *x1* and the day of the week *x2* as predictors.<br>\n",
    "\n",
    "***Note*:**<br>\n",
    "- The *forecast variable (y)* is sometimes called the *regressand, dependent* or *explained variable*. <br>\n",
    "- The *predictor variables (x)* are sometimes called *regressors, independent* or *explanatory variables*.\n",
    "\n",
    "There are several types of Time Series Regression Models, some common ones include:<br>\n",
    "- #### Autoregressive Integrated Moving Average (ARIMA)\n",
    "ARIMA is a popular model used to forecast future values of a time series based on its own past values. It combines autoregression (AR), differencing (I), and moving average (MA) components to capture patterns and trends in the data.\n",
    "\n",
    "- #### Seasonal Autoregressive Integrated Moving-Average (SARIMA)\n",
    "This model is an extension of ARIMA that includes seasonal components to handle data with regular seasonal patterns.\n",
    "\n",
    "- #### Autoregressive Integrated Moving Average with Exogenous Variables (ARIMAX)\n",
    "ARIMAX extends ARIMA by incorporating external or exogenous variables that may influence the time series.\n",
    "\n",
    "- #### Vector Autoregression (VAR)\n",
    "VAR is a model used when you have multiple time series variables that may influence each other. It considers the past values of all variables to predict future values.\n",
    "\n",
    "- #### Seasonal Decomposition of Time Series (STL)\n",
    "STL is a method used to decompose a time series into seasonal, trend, and remainder components to analyze each part separately.\n",
    "\n",
    "- #### Dynamic Linear Models (DLM)\n",
    "DLMs are used when there is uncertainty about the model parameters and allow the parameters to evolve over time.\n",
    "\n",
    "- #### Prophet\n",
    "This is a popular time series forecasting tool developed by Facebook that uses an additive model to capture seasonal and trend patterns with the flexibility to handle holidays and special events.\n",
    "\n",
    "- #### Long Short-Term Memory (LSTM) networks\n",
    "LSTMs are a type of recurrent neural network (RNN) often used for time series forecasting due to their ability to capture long-term dependencies in sequential data."
   ]
  },
  {
   "cell_type": "code",
   "execution_count": null,
   "metadata": {},
   "outputs": [],
   "source": []
  },
  {
   "cell_type": "code",
   "execution_count": null,
   "metadata": {},
   "outputs": [],
   "source": []
  }
 ],
 "metadata": {
  "kernelspec": {
   "display_name": "Python 3",
   "language": "python",
   "name": "python3"
  },
  "language_info": {
   "name": "python",
   "version": "3.11.1"
  },
  "orig_nbformat": 4
 },
 "nbformat": 4,
 "nbformat_minor": 2
}
